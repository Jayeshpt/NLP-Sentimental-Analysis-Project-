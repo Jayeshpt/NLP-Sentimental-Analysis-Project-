{
 "cells": [
  {
   "cell_type": "markdown",
   "id": "fc9e65d9",
   "metadata": {},
   "source": [
    "### Sentimental Analysis With Amazon Customer Review For Musical Instruments"
   ]
  },
  {
   "cell_type": "markdown",
   "id": "1c452c82",
   "metadata": {},
   "source": [
    "##### Importing all libraries"
   ]
  },
  {
   "cell_type": "code",
   "execution_count": 1,
   "id": "e7cf4ed6",
   "metadata": {},
   "outputs": [],
   "source": [
    "import numpy as np \n",
    "import pandas as pd\n",
    "import matplotlib.pyplot as plt\n",
    "import seaborn as sns\n",
    "import spacy\n",
    "from sklearn.model_selection import train_test_split\n",
    "from nltk.tokenize import RegexpTokenizer\n",
    "from nltk.stem import WordNetLemmatizer\n",
    "from nltk.corpus import stopwords\n",
    "import string\n",
    "from string import punctuation\n",
    "import collections\n",
    "from collections import Counter\n",
    "from sklearn.feature_extraction.text import CountVectorizer, TfidfVectorizer\n",
    "from sklearn.metrics import accuracy_score\n",
    "from sklearn.naive_bayes import MultinomialNB\n",
    "from sklearn.linear_model import LogisticRegression\n",
    "from sklearn.ensemble import RandomForestClassifier\n",
    "from sklearn.svm import LinearSVC\n",
    "from sklearn.model_selection import cross_val_score\n",
    "import re"
   ]
  },
  {
   "cell_type": "code",
   "execution_count": 2,
   "id": "d9b60a10",
   "metadata": {},
   "outputs": [
    {
     "data": {
      "text/html": [
       "<div>\n",
       "<style scoped>\n",
       "    .dataframe tbody tr th:only-of-type {\n",
       "        vertical-align: middle;\n",
       "    }\n",
       "\n",
       "    .dataframe tbody tr th {\n",
       "        vertical-align: top;\n",
       "    }\n",
       "\n",
       "    .dataframe thead th {\n",
       "        text-align: right;\n",
       "    }\n",
       "</style>\n",
       "<table border=\"1\" class=\"dataframe\">\n",
       "  <thead>\n",
       "    <tr style=\"text-align: right;\">\n",
       "      <th></th>\n",
       "      <th>reviewerID</th>\n",
       "      <th>asin</th>\n",
       "      <th>reviewerName</th>\n",
       "      <th>helpful</th>\n",
       "      <th>reviewText</th>\n",
       "      <th>overall</th>\n",
       "      <th>summary</th>\n",
       "      <th>unixReviewTime</th>\n",
       "      <th>reviewTime</th>\n",
       "    </tr>\n",
       "  </thead>\n",
       "  <tbody>\n",
       "    <tr>\n",
       "      <th>0</th>\n",
       "      <td>A2IBPI20UZIR0U</td>\n",
       "      <td>1384719342</td>\n",
       "      <td>cassandra tu \"Yeah, well, that's just like, u...</td>\n",
       "      <td>[0, 0]</td>\n",
       "      <td>Not much to write about here, but it does exac...</td>\n",
       "      <td>5.0</td>\n",
       "      <td>good</td>\n",
       "      <td>1393545600</td>\n",
       "      <td>02 28, 2014</td>\n",
       "    </tr>\n",
       "    <tr>\n",
       "      <th>1</th>\n",
       "      <td>A14VAT5EAX3D9S</td>\n",
       "      <td>1384719342</td>\n",
       "      <td>Jake</td>\n",
       "      <td>[13, 14]</td>\n",
       "      <td>The product does exactly as it should and is q...</td>\n",
       "      <td>5.0</td>\n",
       "      <td>Jake</td>\n",
       "      <td>1363392000</td>\n",
       "      <td>03 16, 2013</td>\n",
       "    </tr>\n",
       "    <tr>\n",
       "      <th>2</th>\n",
       "      <td>A195EZSQDW3E21</td>\n",
       "      <td>1384719342</td>\n",
       "      <td>Rick Bennette \"Rick Bennette\"</td>\n",
       "      <td>[1, 1]</td>\n",
       "      <td>The primary job of this device is to block the...</td>\n",
       "      <td>5.0</td>\n",
       "      <td>It Does The Job Well</td>\n",
       "      <td>1377648000</td>\n",
       "      <td>08 28, 2013</td>\n",
       "    </tr>\n",
       "    <tr>\n",
       "      <th>3</th>\n",
       "      <td>A2C00NNG1ZQQG2</td>\n",
       "      <td>1384719342</td>\n",
       "      <td>RustyBill \"Sunday Rocker\"</td>\n",
       "      <td>[0, 0]</td>\n",
       "      <td>Nice windscreen protects my MXL mic and preven...</td>\n",
       "      <td>5.0</td>\n",
       "      <td>GOOD WINDSCREEN FOR THE MONEY</td>\n",
       "      <td>1392336000</td>\n",
       "      <td>02 14, 2014</td>\n",
       "    </tr>\n",
       "    <tr>\n",
       "      <th>4</th>\n",
       "      <td>A94QU4C90B1AX</td>\n",
       "      <td>1384719342</td>\n",
       "      <td>SEAN MASLANKA</td>\n",
       "      <td>[0, 0]</td>\n",
       "      <td>This pop filter is great. It looks and perform...</td>\n",
       "      <td>5.0</td>\n",
       "      <td>No more pops when I record my vocals.</td>\n",
       "      <td>1392940800</td>\n",
       "      <td>02 21, 2014</td>\n",
       "    </tr>\n",
       "  </tbody>\n",
       "</table>\n",
       "</div>"
      ],
      "text/plain": [
       "       reviewerID        asin  \\\n",
       "0  A2IBPI20UZIR0U  1384719342   \n",
       "1  A14VAT5EAX3D9S  1384719342   \n",
       "2  A195EZSQDW3E21  1384719342   \n",
       "3  A2C00NNG1ZQQG2  1384719342   \n",
       "4   A94QU4C90B1AX  1384719342   \n",
       "\n",
       "                                       reviewerName   helpful  \\\n",
       "0  cassandra tu \"Yeah, well, that's just like, u...    [0, 0]   \n",
       "1                                              Jake  [13, 14]   \n",
       "2                     Rick Bennette \"Rick Bennette\"    [1, 1]   \n",
       "3                         RustyBill \"Sunday Rocker\"    [0, 0]   \n",
       "4                                     SEAN MASLANKA    [0, 0]   \n",
       "\n",
       "                                          reviewText  overall  \\\n",
       "0  Not much to write about here, but it does exac...      5.0   \n",
       "1  The product does exactly as it should and is q...      5.0   \n",
       "2  The primary job of this device is to block the...      5.0   \n",
       "3  Nice windscreen protects my MXL mic and preven...      5.0   \n",
       "4  This pop filter is great. It looks and perform...      5.0   \n",
       "\n",
       "                                 summary  unixReviewTime   reviewTime  \n",
       "0                                   good      1393545600  02 28, 2014  \n",
       "1                                   Jake      1363392000  03 16, 2013  \n",
       "2                   It Does The Job Well      1377648000  08 28, 2013  \n",
       "3          GOOD WINDSCREEN FOR THE MONEY      1392336000  02 14, 2014  \n",
       "4  No more pops when I record my vocals.      1392940800  02 21, 2014  "
      ]
     },
     "execution_count": 2,
     "metadata": {},
     "output_type": "execute_result"
    }
   ],
   "source": [
    "# Loading the data\n",
    "\n",
    "raw_reviews = pd.read_csv('Musical_instruments_reviews.csv')\n",
    "raw_reviews.head()"
   ]
  },
  {
   "cell_type": "code",
   "execution_count": 3,
   "id": "b1c28c12",
   "metadata": {},
   "outputs": [
    {
     "data": {
      "text/plain": [
       "(10261, 9)"
      ]
     },
     "execution_count": 3,
     "metadata": {},
     "output_type": "execute_result"
    }
   ],
   "source": [
    "raw_reviews.shape"
   ]
  },
  {
   "cell_type": "code",
   "execution_count": 4,
   "id": "05277e85",
   "metadata": {},
   "outputs": [
    {
     "data": {
      "text/html": [
       "<div>\n",
       "<style scoped>\n",
       "    .dataframe tbody tr th:only-of-type {\n",
       "        vertical-align: middle;\n",
       "    }\n",
       "\n",
       "    .dataframe tbody tr th {\n",
       "        vertical-align: top;\n",
       "    }\n",
       "\n",
       "    .dataframe thead th {\n",
       "        text-align: right;\n",
       "    }\n",
       "</style>\n",
       "<table border=\"1\" class=\"dataframe\">\n",
       "  <thead>\n",
       "    <tr style=\"text-align: right;\">\n",
       "      <th></th>\n",
       "      <th>reviewText</th>\n",
       "      <th>overall</th>\n",
       "      <th>summary</th>\n",
       "    </tr>\n",
       "  </thead>\n",
       "  <tbody>\n",
       "    <tr>\n",
       "      <th>0</th>\n",
       "      <td>Not much to write about here, but it does exac...</td>\n",
       "      <td>5.0</td>\n",
       "      <td>good</td>\n",
       "    </tr>\n",
       "    <tr>\n",
       "      <th>1</th>\n",
       "      <td>The product does exactly as it should and is q...</td>\n",
       "      <td>5.0</td>\n",
       "      <td>Jake</td>\n",
       "    </tr>\n",
       "    <tr>\n",
       "      <th>2</th>\n",
       "      <td>The primary job of this device is to block the...</td>\n",
       "      <td>5.0</td>\n",
       "      <td>It Does The Job Well</td>\n",
       "    </tr>\n",
       "    <tr>\n",
       "      <th>3</th>\n",
       "      <td>Nice windscreen protects my MXL mic and preven...</td>\n",
       "      <td>5.0</td>\n",
       "      <td>GOOD WINDSCREEN FOR THE MONEY</td>\n",
       "    </tr>\n",
       "    <tr>\n",
       "      <th>4</th>\n",
       "      <td>This pop filter is great. It looks and perform...</td>\n",
       "      <td>5.0</td>\n",
       "      <td>No more pops when I record my vocals.</td>\n",
       "    </tr>\n",
       "  </tbody>\n",
       "</table>\n",
       "</div>"
      ],
      "text/plain": [
       "                                          reviewText  overall  \\\n",
       "0  Not much to write about here, but it does exac...      5.0   \n",
       "1  The product does exactly as it should and is q...      5.0   \n",
       "2  The primary job of this device is to block the...      5.0   \n",
       "3  Nice windscreen protects my MXL mic and preven...      5.0   \n",
       "4  This pop filter is great. It looks and perform...      5.0   \n",
       "\n",
       "                                 summary  \n",
       "0                                   good  \n",
       "1                                   Jake  \n",
       "2                   It Does The Job Well  \n",
       "3          GOOD WINDSCREEN FOR THE MONEY  \n",
       "4  No more pops when I record my vocals.  "
      ]
     },
     "execution_count": 4,
     "metadata": {},
     "output_type": "execute_result"
    }
   ],
   "source": [
    "# Removing unwanted feature in primary Analysis\n",
    "\n",
    "raw_reviews = raw_reviews.drop(['reviewerID', 'asin','reviewerName', 'unixReviewTime', 'helpful','reviewTime'], axis = 1)\n",
    "raw_reviews.head()"
   ]
  },
  {
   "cell_type": "code",
   "execution_count": 5,
   "id": "f5d93099",
   "metadata": {},
   "outputs": [
    {
     "data": {
      "text/plain": [
       "reviewText    7\n",
       "overall       0\n",
       "summary       0\n",
       "dtype: int64"
      ]
     },
     "execution_count": 5,
     "metadata": {},
     "output_type": "execute_result"
    }
   ],
   "source": [
    "#Creating a copy\n",
    "process_reviews=raw_reviews.copy()\n",
    "\n",
    "#Checking for null values\n",
    "process_reviews.isnull().sum()"
   ]
  },
  {
   "cell_type": "code",
   "execution_count": 6,
   "id": "a5590077",
   "metadata": {},
   "outputs": [],
   "source": [
    "# Handling Missing Values with fillna\n",
    "\n",
    "process_reviews['reviewText']=process_reviews['reviewText'].fillna('Missing')"
   ]
  },
  {
   "cell_type": "markdown",
   "id": "6a54fb01",
   "metadata": {},
   "source": [
    "## Concatenating review text and summary\n"
   ]
  },
  {
   "cell_type": "code",
   "execution_count": 7,
   "id": "f9b67f69",
   "metadata": {},
   "outputs": [
    {
     "data": {
      "text/html": [
       "<div>\n",
       "<style scoped>\n",
       "    .dataframe tbody tr th:only-of-type {\n",
       "        vertical-align: middle;\n",
       "    }\n",
       "\n",
       "    .dataframe tbody tr th {\n",
       "        vertical-align: top;\n",
       "    }\n",
       "\n",
       "    .dataframe thead th {\n",
       "        text-align: right;\n",
       "    }\n",
       "</style>\n",
       "<table border=\"1\" class=\"dataframe\">\n",
       "  <thead>\n",
       "    <tr style=\"text-align: right;\">\n",
       "      <th></th>\n",
       "      <th>overall</th>\n",
       "      <th>reviews</th>\n",
       "    </tr>\n",
       "  </thead>\n",
       "  <tbody>\n",
       "    <tr>\n",
       "      <th>0</th>\n",
       "      <td>5.0</td>\n",
       "      <td>Not much to write about here, but it does exac...</td>\n",
       "    </tr>\n",
       "    <tr>\n",
       "      <th>1</th>\n",
       "      <td>5.0</td>\n",
       "      <td>The product does exactly as it should and is q...</td>\n",
       "    </tr>\n",
       "    <tr>\n",
       "      <th>2</th>\n",
       "      <td>5.0</td>\n",
       "      <td>The primary job of this device is to block the...</td>\n",
       "    </tr>\n",
       "    <tr>\n",
       "      <th>3</th>\n",
       "      <td>5.0</td>\n",
       "      <td>Nice windscreen protects my MXL mic and preven...</td>\n",
       "    </tr>\n",
       "    <tr>\n",
       "      <th>4</th>\n",
       "      <td>5.0</td>\n",
       "      <td>This pop filter is great. It looks and perform...</td>\n",
       "    </tr>\n",
       "  </tbody>\n",
       "</table>\n",
       "</div>"
      ],
      "text/plain": [
       "   overall                                            reviews\n",
       "0      5.0  Not much to write about here, but it does exac...\n",
       "1      5.0  The product does exactly as it should and is q...\n",
       "2      5.0  The primary job of this device is to block the...\n",
       "3      5.0  Nice windscreen protects my MXL mic and preven...\n",
       "4      5.0  This pop filter is great. It looks and perform..."
      ]
     },
     "execution_count": 7,
     "metadata": {},
     "output_type": "execute_result"
    }
   ],
   "source": [
    "process_reviews['reviews']=process_reviews['reviewText']+process_reviews['summary']\n",
    "process_reviews=process_reviews.drop(['reviewText', 'summary'], axis=1)\n",
    "process_reviews.head()"
   ]
  },
  {
   "cell_type": "markdown",
   "id": "3dd54512",
   "metadata": {},
   "source": [
    "### Creating 'sentiment' column\n"
   ]
  },
  {
   "cell_type": "markdown",
   "id": "3b5a0d3f",
   "metadata": {},
   "source": [
    "This is an important preprocessing phase, we are deciding the outcome column (sentiment of review) based on the overall score. \n",
    "\n",
    "--> If the score is greater than 3, we take that as positive and\n",
    "\n",
    "--> if the value is less than 3 it is negative \n",
    "\n",
    "--> Ifit is equal to 3, we take that as neutral sentiment"
   ]
  },
  {
   "cell_type": "code",
   "execution_count": 8,
   "id": "b73bc7a8",
   "metadata": {},
   "outputs": [
    {
     "data": {
      "text/plain": [
       "5.0    6938\n",
       "4.0    2084\n",
       "3.0     772\n",
       "2.0     250\n",
       "1.0     217\n",
       "Name: overall, dtype: int64"
      ]
     },
     "execution_count": 8,
     "metadata": {},
     "output_type": "execute_result"
    }
   ],
   "source": [
    "#Figuring out the distribution of categories\n",
    "process_reviews['overall'].value_counts()"
   ]
  },
  {
   "cell_type": "code",
   "execution_count": 9,
   "id": "7a4fc798",
   "metadata": {},
   "outputs": [
    {
     "data": {
      "text/html": [
       "<div>\n",
       "<style scoped>\n",
       "    .dataframe tbody tr th:only-of-type {\n",
       "        vertical-align: middle;\n",
       "    }\n",
       "\n",
       "    .dataframe tbody tr th {\n",
       "        vertical-align: top;\n",
       "    }\n",
       "\n",
       "    .dataframe thead th {\n",
       "        text-align: right;\n",
       "    }\n",
       "</style>\n",
       "<table border=\"1\" class=\"dataframe\">\n",
       "  <thead>\n",
       "    <tr style=\"text-align: right;\">\n",
       "      <th></th>\n",
       "      <th>reviews</th>\n",
       "      <th>sentiment</th>\n",
       "    </tr>\n",
       "  </thead>\n",
       "  <tbody>\n",
       "    <tr>\n",
       "      <th>0</th>\n",
       "      <td>Not much to write about here, but it does exac...</td>\n",
       "      <td>positive</td>\n",
       "    </tr>\n",
       "    <tr>\n",
       "      <th>1</th>\n",
       "      <td>The product does exactly as it should and is q...</td>\n",
       "      <td>positive</td>\n",
       "    </tr>\n",
       "    <tr>\n",
       "      <th>2</th>\n",
       "      <td>The primary job of this device is to block the...</td>\n",
       "      <td>positive</td>\n",
       "    </tr>\n",
       "    <tr>\n",
       "      <th>3</th>\n",
       "      <td>Nice windscreen protects my MXL mic and preven...</td>\n",
       "      <td>positive</td>\n",
       "    </tr>\n",
       "    <tr>\n",
       "      <th>4</th>\n",
       "      <td>This pop filter is great. It looks and perform...</td>\n",
       "      <td>positive</td>\n",
       "    </tr>\n",
       "  </tbody>\n",
       "</table>\n",
       "</div>"
      ],
      "text/plain": [
       "                                             reviews sentiment\n",
       "0  Not much to write about here, but it does exac...  positive\n",
       "1  The product does exactly as it should and is q...  positive\n",
       "2  The primary job of this device is to block the...  positive\n",
       "3  Nice windscreen protects my MXL mic and preven...  positive\n",
       "4  This pop filter is great. It looks and perform...  positive"
      ]
     },
     "execution_count": 9,
     "metadata": {},
     "output_type": "execute_result"
    }
   ],
   "source": [
    "def rating(overall):\n",
    "    \n",
    "    if (int(overall == 3.0)):\n",
    "        return ('average')\n",
    "    elif (int(overall == 4.0 ) or int(overall == 5.0 )):\n",
    "        return ('positive')\n",
    "    else:\n",
    "        return ('bad')    \n",
    "    \n",
    "process_reviews['sentiment'] = process_reviews['overall'].apply(rating)\n",
    "process_reviews = process_reviews.drop(['overall'], axis = 1)\n",
    "process_reviews.head()"
   ]
  },
  {
   "cell_type": "code",
   "execution_count": 10,
   "id": "d350c525",
   "metadata": {},
   "outputs": [
    {
     "name": "stderr",
     "output_type": "stream",
     "text": [
      "C:\\Users\\jayes\\anaconda3\\lib\\site-packages\\seaborn\\_decorators.py:36: FutureWarning: Pass the following variable as a keyword arg: x. From version 0.12, the only valid positional argument will be `data`, and passing other arguments without an explicit keyword will result in an error or misinterpretation.\n",
      "  warnings.warn(\n"
     ]
    },
    {
     "data": {
      "text/plain": [
       "<AxesSubplot:xlabel='sentiment', ylabel='count'>"
      ]
     },
     "execution_count": 10,
     "metadata": {},
     "output_type": "execute_result"
    },
    {
     "data": {
      "image/png": "[encoded data removed]",
      "text/plain": [
       "<Figure size 640x480 with 1 Axes>"
      ]
     },
     "metadata": {},
     "output_type": "display_data"
    }
   ],
   "source": [
    "process_reviews['sentiment'].value_counts()\n",
    "sns.countplot(process_reviews.sentiment)"
   ]
  },
  {
   "cell_type": "code",
   "execution_count": 11,
   "id": "5ecc6e39",
   "metadata": {},
   "outputs": [],
   "source": [
    "#Creating a copy \n",
    "clean_reviews=process_reviews.copy()"
   ]
  },
  {
   "cell_type": "markdown",
   "id": "1ecb2c5d",
   "metadata": {},
   "source": [
    "## Review text-Punctuation Cleaning"
   ]
  },
  {
   "cell_type": "markdown",
   "id": "68c6d42d",
   "metadata": {},
   "source": [
    "'''Make text lowercase, remove text in square brackets,remove links,remove punctuation\n",
    "    and remove words containing numbers.'''"
   ]
  },
  {
   "cell_type": "code",
   "execution_count": 13,
   "id": "13fc8c05",
   "metadata": {},
   "outputs": [],
   "source": [
    "nlp = spacy.load(\"en_core_web_sm\")\n",
    "tokenizer = RegexpTokenizer(r'\\w+')     # Tokenisation\n",
    "lemmatizer = WordNetLemmatizer()        # Lemmatizaton\n",
    "stop = set(stopwords.words('english'))  # Stopwords removing\n",
    "punctuation = list(string.punctuation)\n",
    "stop.update(punctuation)\n",
    "\n",
    "            \n",
    "def furnished(text):\n",
    "    final_text = []\n",
    "    for i in text.split():\n",
    "        if i.lower() not in stop:\n",
    "            word = lemmatizer.lemmatize(i)\n",
    "            final_text.append(word.lower())\n",
    "    return \" \".join(final_text)\n",
    "\n",
    "\n",
    "            \n",
    "process_reviews.reviews = process_reviews.reviews.apply(furnished)"
   ]
  },
  {
   "cell_type": "code",
   "execution_count": 14,
   "id": "ab66c3c3",
   "metadata": {},
   "outputs": [
    {
     "data": {
      "text/html": [
       "<div>\n",
       "<style scoped>\n",
       "    .dataframe tbody tr th:only-of-type {\n",
       "        vertical-align: middle;\n",
       "    }\n",
       "\n",
       "    .dataframe tbody tr th {\n",
       "        vertical-align: top;\n",
       "    }\n",
       "\n",
       "    .dataframe thead th {\n",
       "        text-align: right;\n",
       "    }\n",
       "</style>\n",
       "<table border=\"1\" class=\"dataframe\">\n",
       "  <thead>\n",
       "    <tr style=\"text-align: right;\">\n",
       "      <th></th>\n",
       "      <th>reviews</th>\n",
       "      <th>sentiment</th>\n",
       "    </tr>\n",
       "  </thead>\n",
       "  <tbody>\n",
       "    <tr>\n",
       "      <th>15</th>\n",
       "      <td>bought use keyboard. really aware option keybo...</td>\n",
       "      <td>bad</td>\n",
       "    </tr>\n",
       "    <tr>\n",
       "      <th>50</th>\n",
       "      <td>expect cable thin. easily 1/2 thickness guitar...</td>\n",
       "      <td>bad</td>\n",
       "    </tr>\n",
       "    <tr>\n",
       "      <th>52</th>\n",
       "      <td>hums, crackles, think i'm problem equipment. s...</td>\n",
       "      <td>bad</td>\n",
       "    </tr>\n",
       "    <tr>\n",
       "      <th>89</th>\n",
       "      <td>i'm pro-cheapo hated thing. they're noisy, cab...</td>\n",
       "      <td>bad</td>\n",
       "    </tr>\n",
       "    <tr>\n",
       "      <th>98</th>\n",
       "      <td>bought canon vixia hf g10 video camera shotgun...</td>\n",
       "      <td>bad</td>\n",
       "    </tr>\n",
       "    <tr>\n",
       "      <th>...</th>\n",
       "      <td>...</td>\n",
       "      <td>...</td>\n",
       "    </tr>\n",
       "    <tr>\n",
       "      <th>10171</th>\n",
       "      <td>really wanted like these, they're frickin, lin...</td>\n",
       "      <td>bad</td>\n",
       "    </tr>\n",
       "    <tr>\n",
       "      <th>10178</th>\n",
       "      <td>larger one sometimes neck snap thought might a...</td>\n",
       "      <td>bad</td>\n",
       "    </tr>\n",
       "    <tr>\n",
       "      <th>10187</th>\n",
       "      <td>tension screw adjustment remains best capo i'v...</td>\n",
       "      <td>bad</td>\n",
       "    </tr>\n",
       "    <tr>\n",
       "      <th>10189</th>\n",
       "      <td>fan planet waves ns capos, new one well design...</td>\n",
       "      <td>bad</td>\n",
       "    </tr>\n",
       "    <tr>\n",
       "      <th>10247</th>\n",
       "      <td>looking forward trying these, i've loved compa...</td>\n",
       "      <td>bad</td>\n",
       "    </tr>\n",
       "  </tbody>\n",
       "</table>\n",
       "<p>467 rows × 2 columns</p>\n",
       "</div>"
      ],
      "text/plain": [
       "                                                 reviews sentiment\n",
       "15     bought use keyboard. really aware option keybo...       bad\n",
       "50     expect cable thin. easily 1/2 thickness guitar...       bad\n",
       "52     hums, crackles, think i'm problem equipment. s...       bad\n",
       "89     i'm pro-cheapo hated thing. they're noisy, cab...       bad\n",
       "98     bought canon vixia hf g10 video camera shotgun...       bad\n",
       "...                                                  ...       ...\n",
       "10171  really wanted like these, they're frickin, lin...       bad\n",
       "10178  larger one sometimes neck snap thought might a...       bad\n",
       "10187  tension screw adjustment remains best capo i'v...       bad\n",
       "10189  fan planet waves ns capos, new one well design...       bad\n",
       "10247  looking forward trying these, i've loved compa...       bad\n",
       "\n",
       "[467 rows x 2 columns]"
      ]
     },
     "execution_count": 14,
     "metadata": {},
     "output_type": "execute_result"
    }
   ],
   "source": [
    "process_reviews[process_reviews['sentiment']=='bad']"
   ]
  },
  {
   "cell_type": "code",
   "execution_count": 15,
   "id": "5f227c02",
   "metadata": {},
   "outputs": [
    {
     "data": {
      "text/plain": [
       "\"use cable run output pedal chain input fender amp. bought monster cable hook pedal board thought would try another one update guitar. using high end planet waves cable bought 1980's... found input jack new monster cable fit fender strat jack little disappointed... return stated use output pedal board. save money... went back planet waves cable...i payed $30.00 back eighty planet waves come around $50.00. i'm getting get pay for. thought waves lot money back day...but bought guitar cable since one...20 plus year still working...planet waves wins.didn't fit 1996 fender strat...\""
      ]
     },
     "execution_count": 15,
     "metadata": {},
     "output_type": "execute_result"
    }
   ],
   "source": [
    "inp=process_reviews.loc[7][0]\n",
    "inp"
   ]
  },
  {
   "cell_type": "code",
   "execution_count": 16,
   "id": "e0612e85",
   "metadata": {},
   "outputs": [
    {
     "data": {
      "text/plain": [
       "count                      10261\n",
       "unique                     10256\n",
       "top       good stringsfive stars\n",
       "freq                           3\n",
       "Name: reviews, dtype: object"
      ]
     },
     "execution_count": 16,
     "metadata": {},
     "output_type": "execute_result"
    }
   ],
   "source": [
    "process_reviews.reviews.describe()"
   ]
  },
  {
   "cell_type": "code",
   "execution_count": 17,
   "id": "5b2fc4d2",
   "metadata": {},
   "outputs": [
    {
     "data": {
      "text/plain": [
       "<AxesSubplot:>"
      ]
     },
     "execution_count": 17,
     "metadata": {},
     "output_type": "execute_result"
    },
    {
     "data": {
      "image/png": "[encoded data removed]",
      "text/plain": [
       "<Figure size 1000x1000 with 1 Axes>"
      ]
     },
     "metadata": {},
     "output_type": "display_data"
    }
   ],
   "source": [
    "for i in process_reviews.reviews:\n",
    "    global text\n",
    "    text = i.split()\n",
    "    \n",
    "counter=Counter(text)\n",
    "most=counter.most_common()\n",
    "\n",
    "x, y= [], []\n",
    "for word,count in most[:20]:\n",
    "    if (word not in stop):\n",
    "        x.append(word)\n",
    "        y.append(count)\n",
    "plt.figure(figsize = (10,10))     \n",
    "sns.barplot(x=y,y=x)"
   ]
  },
  {
   "cell_type": "code",
   "execution_count": 18,
   "id": "f64e01b2",
   "metadata": {},
   "outputs": [
    {
     "data": {
      "text/html": [
       "<div>\n",
       "<style scoped>\n",
       "    .dataframe tbody tr th:only-of-type {\n",
       "        vertical-align: middle;\n",
       "    }\n",
       "\n",
       "    .dataframe tbody tr th {\n",
       "        vertical-align: top;\n",
       "    }\n",
       "\n",
       "    .dataframe thead th {\n",
       "        text-align: right;\n",
       "    }\n",
       "</style>\n",
       "<table border=\"1\" class=\"dataframe\">\n",
       "  <thead>\n",
       "    <tr style=\"text-align: right;\">\n",
       "      <th></th>\n",
       "      <th>reviews</th>\n",
       "      <th>sentiment</th>\n",
       "    </tr>\n",
       "  </thead>\n",
       "  <tbody>\n",
       "    <tr>\n",
       "      <th>0</th>\n",
       "      <td>much write here, exactly supposed to. filter p...</td>\n",
       "      <td>positive</td>\n",
       "    </tr>\n",
       "    <tr>\n",
       "      <th>1</th>\n",
       "      <td>product exactly quite affordable.i realized do...</td>\n",
       "      <td>positive</td>\n",
       "    </tr>\n",
       "    <tr>\n",
       "      <th>2</th>\n",
       "      <td>primary job device block breath would otherwis...</td>\n",
       "      <td>positive</td>\n",
       "    </tr>\n",
       "    <tr>\n",
       "      <th>3</th>\n",
       "      <td>nice windscreen protects mxl mic prevents pops...</td>\n",
       "      <td>positive</td>\n",
       "    </tr>\n",
       "    <tr>\n",
       "      <th>4</th>\n",
       "      <td>pop filter great. look performs like studio fi...</td>\n",
       "      <td>positive</td>\n",
       "    </tr>\n",
       "  </tbody>\n",
       "</table>\n",
       "</div>"
      ],
      "text/plain": [
       "                                             reviews sentiment\n",
       "0  much write here, exactly supposed to. filter p...  positive\n",
       "1  product exactly quite affordable.i realized do...  positive\n",
       "2  primary job device block breath would otherwis...  positive\n",
       "3  nice windscreen protects mxl mic prevents pops...  positive\n",
       "4  pop filter great. look performs like studio fi...  positive"
      ]
     },
     "execution_count": 18,
     "metadata": {},
     "output_type": "execute_result"
    }
   ],
   "source": [
    "process_reviews.head()"
   ]
  },
  {
   "cell_type": "code",
   "execution_count": 19,
   "id": "7075dbd6",
   "metadata": {},
   "outputs": [],
   "source": [
    "x_train,x_test,y_train,y_test = train_test_split(process_reviews.reviews,process_reviews.sentiment,test_size = 0.2 , random_state = 0)\n"
   ]
  },
  {
   "cell_type": "code",
   "execution_count": 20,
   "id": "5ac5f4dc",
   "metadata": {},
   "outputs": [
    {
     "name": "stdout",
     "output_type": "stream",
     "text": [
      "bow_x_train: (8208, 590454)\n",
      "bow_x_test: (2053, 590454)\n"
     ]
    }
   ],
   "source": [
    "#bow\n",
    "cv=CountVectorizer(min_df=0,max_df=1,binary=False,ngram_range=(1,3))\n",
    "bow_x_train = cv.fit_transform(x_train)\n",
    "bow_x_test = cv.transform(x_test)\n",
    "\n",
    "print('bow_x_train:',bow_x_train.shape)\n",
    "print('bow_x_test:',bow_x_test.shape)"
   ]
  },
  {
   "cell_type": "code",
   "execution_count": 21,
   "id": "1e17f098",
   "metadata": {
    "scrolled": true
   },
   "outputs": [
    {
     "name": "stdout",
     "output_type": "stream",
     "text": [
      "tfidf_x_train: (8208, 590454)\n",
      "tfidf_x_test: (2053, 590454)\n"
     ]
    }
   ],
   "source": [
    "#tf-idf \n",
    "tv=TfidfVectorizer(min_df=0,max_df=1,use_idf=True,ngram_range=(1,3))\n",
    "\n",
    "tfidf_x_train =tv.fit_transform(x_train)\n",
    "tfidf_x_test =tv.transform(x_test)\n",
    "\n",
    "print('tfidf_x_train:',tfidf_x_train.shape)\n",
    "print('tfidf_x_test:',tfidf_x_test.shape)"
   ]
  },
  {
   "cell_type": "code",
   "execution_count": 22,
   "id": "8a5f0539",
   "metadata": {},
   "outputs": [
    {
     "name": "stdout",
     "output_type": "stream",
     "text": [
      "nb bow accuracy: 0.8894301022893327\n",
      "tfidf accuracy: 0.8889430102289333\n"
     ]
    }
   ],
   "source": [
    "#Naive Bayes\n",
    "nb = MultinomialNB()\n",
    "\n",
    "#fit\n",
    "bow = nb.fit(bow_x_train, y_train)\n",
    "tfidf = nb.fit(tfidf_x_train, y_train)\n",
    "\n",
    "\n",
    "#predict\n",
    "bow_predict = nb.predict(bow_x_test)\n",
    "tfidf_predict = nb.predict(tfidf_x_test)\n",
    "\n",
    "#accuracy\n",
    "nb_bow = accuracy_score(y_test, bow_predict)\n",
    "nb_tfidf = accuracy_score(y_test,tfidf_predict)\n",
    "\n",
    "print('nb bow accuracy:', nb_bow)\n",
    "print('tfidf accuracy:', nb_tfidf)"
   ]
  },
  {
   "cell_type": "code",
   "execution_count": 23,
   "id": "8fd881e9",
   "metadata": {},
   "outputs": [
    {
     "name": "stdout",
     "output_type": "stream",
     "text": [
      "nb bow accuracy: 0.8894301022893327\n",
      "tfidf accuracy: 0.8889430102289333\n"
     ]
    }
   ],
   "source": [
    "#Naive Bayes\n",
    "nb = MultinomialNB()\n",
    "\n",
    "#fit\n",
    "bow = nb.fit(bow_x_train, y_train)\n",
    "tfidf = nb.fit(tfidf_x_train, y_train)\n",
    "\n",
    "#predict\n",
    "bow_predict = nb.predict(bow_x_test)\n",
    "tfidf_predict = nb.predict(tfidf_x_test)\n",
    "\n",
    "#accuracy\n",
    "nb_bow = accuracy_score(y_test, bow_predict)\n",
    "nb_tfidf = accuracy_score(y_test,tfidf_predict)\n",
    "\n",
    "print('nb bow accuracy:', nb_bow)\n",
    "print('tfidf accuracy:', nb_tfidf)"
   ]
  },
  {
   "cell_type": "code",
   "execution_count": 24,
   "id": "fce96270",
   "metadata": {},
   "outputs": [
    {
     "name": "stdout",
     "output_type": "stream",
     "text": [
      "rf bow accuracy: 0.8889430102289333\n",
      "rf tfidf accuracy: 0.8889430102289333\n"
     ]
    }
   ],
   "source": [
    "#random forest\n",
    "rf = RandomForestClassifier(n_estimators=200, max_depth=3, random_state=0)\n",
    "\n",
    "#fit\n",
    "bow = rf.fit(bow_x_train, y_train)\n",
    "tfidf = rf.fit(tfidf_x_train, y_train)\n",
    "\n",
    "#predict\n",
    "bow_predict = rf.predict(bow_x_test)\n",
    "tfidf_predict = rf.predict(tfidf_x_test)\n",
    "\n",
    "#accuracy\n",
    "rf_bow = accuracy_score(y_test, bow_predict)\n",
    "rf_tfidf = accuracy_score(y_test,tfidf_predict)\n",
    "\n",
    "print('rf bow accuracy:', rf_bow)\n",
    "print('rf tfidf accuracy:', rf_tfidf)"
   ]
  },
  {
   "cell_type": "code",
   "execution_count": 25,
   "id": "dea92800",
   "metadata": {},
   "outputs": [
    {
     "name": "stdout",
     "output_type": "stream",
     "text": [
      "ls bow accuracy: 0.8884559181685339\n",
      "ls tfidf accuracy: 0.8899171943497322\n"
     ]
    }
   ],
   "source": [
    "#Linear SVC\n",
    "ls =  LinearSVC()\n",
    "\n",
    "#fit\n",
    "bow = ls.fit(bow_x_train, y_train)\n",
    "tfidf = ls.fit(tfidf_x_train, y_train)\n",
    "\n",
    "#predict\n",
    "bow_predict = ls.predict(bow_x_test)\n",
    "tfidf_predict = ls.predict(tfidf_x_test)\n",
    "\n",
    "\n",
    "#accuracy\n",
    "ls_bow = accuracy_score(y_test, bow_predict)\n",
    "ls_tfidf = accuracy_score(y_test,tfidf_predict)\n",
    "\n",
    "print('ls bow accuracy:', ls_bow)\n",
    "print('ls tfidf accuracy:', ls_tfidf)"
   ]
  },
  {
   "cell_type": "code",
   "execution_count": 26,
   "id": "3bd9f838",
   "metadata": {},
   "outputs": [
    {
     "name": "stdout",
     "output_type": "stream",
     "text": [
      "lr bow accuracy: 0.8904042864101315\n",
      "lr tfidf accuracy: 0.8889430102289333\n"
     ]
    }
   ],
   "source": [
    "#lr\n",
    "lr = LogisticRegression(random_state=0)\n",
    "\n",
    "#fit\n",
    "bow = lr.fit(bow_x_train, y_train)\n",
    "tfidf = lr.fit(tfidf_x_train, y_train)\n",
    "\n",
    "#predict\n",
    "bow_predict = lr.predict(bow_x_test)\n",
    "tfidf_predict = lr.predict(tfidf_x_test)\n",
    "\n",
    "#accuracy\n",
    "lr_bow = accuracy_score(y_test, bow_predict)\n",
    "lr_tfidf = accuracy_score(y_test,tfidf_predict)\n",
    "\n",
    "print('lr bow accuracy:', lr_bow)\n",
    "print('lr tfidf accuracy:', lr_tfidf)"
   ]
  },
  {
   "cell_type": "code",
   "execution_count": 27,
   "id": "2f669815",
   "metadata": {},
   "outputs": [
    {
     "data": {
      "text/html": [
       "<div>\n",
       "<style scoped>\n",
       "    .dataframe tbody tr th:only-of-type {\n",
       "        vertical-align: middle;\n",
       "    }\n",
       "\n",
       "    .dataframe tbody tr th {\n",
       "        vertical-align: top;\n",
       "    }\n",
       "\n",
       "    .dataframe thead th {\n",
       "        text-align: right;\n",
       "    }\n",
       "</style>\n",
       "<table border=\"1\" class=\"dataframe\">\n",
       "  <thead>\n",
       "    <tr style=\"text-align: right;\">\n",
       "      <th></th>\n",
       "      <th>accuracy</th>\n",
       "      <th>model</th>\n",
       "    </tr>\n",
       "  </thead>\n",
       "  <tbody>\n",
       "    <tr>\n",
       "      <th>0</th>\n",
       "      <td>88.943010</td>\n",
       "      <td>naive bayes bow</td>\n",
       "    </tr>\n",
       "    <tr>\n",
       "      <th>1</th>\n",
       "      <td>88.894301</td>\n",
       "      <td>naive bayes tfidf</td>\n",
       "    </tr>\n",
       "    <tr>\n",
       "      <th>2</th>\n",
       "      <td>88.894301</td>\n",
       "      <td>random forest bow</td>\n",
       "    </tr>\n",
       "    <tr>\n",
       "      <th>3</th>\n",
       "      <td>88.894301</td>\n",
       "      <td>random forest tfidf</td>\n",
       "    </tr>\n",
       "    <tr>\n",
       "      <th>4</th>\n",
       "      <td>89.040429</td>\n",
       "      <td>logit bow</td>\n",
       "    </tr>\n",
       "    <tr>\n",
       "      <th>5</th>\n",
       "      <td>88.894301</td>\n",
       "      <td>logit tfidf</td>\n",
       "    </tr>\n",
       "    <tr>\n",
       "      <th>6</th>\n",
       "      <td>88.991719</td>\n",
       "      <td>SVM bow</td>\n",
       "    </tr>\n",
       "    <tr>\n",
       "      <th>7</th>\n",
       "      <td>88.845592</td>\n",
       "      <td>SVM tfidf</td>\n",
       "    </tr>\n",
       "  </tbody>\n",
       "</table>\n",
       "</div>"
      ],
      "text/plain": [
       "    accuracy                model\n",
       "0  88.943010      naive bayes bow\n",
       "1  88.894301    naive bayes tfidf\n",
       "2  88.894301    random forest bow\n",
       "3  88.894301  random forest tfidf\n",
       "4  89.040429            logit bow\n",
       "5  88.894301          logit tfidf\n",
       "6  88.991719              SVM bow\n",
       "7  88.845592            SVM tfidf"
      ]
     },
     "execution_count": 27,
     "metadata": {},
     "output_type": "execute_result"
    }
   ],
   "source": [
    "data = {'accuracy': [nb_bow * 100, nb_tfidf * 100, rf_bow * 100, rf_tfidf * 100, lr_bow * 100, lr_tfidf * 100, ls_tfidf * 100, ls_bow * 100],\n",
    "                   'model': ['naive bayes bow', 'naive bayes tfidf', 'random forest bow', 'random forest tfidf', \n",
    "                                'logit bow', 'logit tfidf', 'SVM bow', 'SVM tfidf']}\n",
    "df = pd.DataFrame(data, columns = ['accuracy', 'model'])\n",
    "df.head(8)"
   ]
  },
  {
   "cell_type": "code",
   "execution_count": 28,
   "id": "ed423fbf",
   "metadata": {},
   "outputs": [
    {
     "data": {
      "text/plain": [
       "<AxesSubplot:xlabel='model', ylabel='accuracy'>"
      ]
     },
     "execution_count": 28,
     "metadata": {},
     "output_type": "execute_result"
    },
    {
     "data": {
      "image/png": "[encoded data removed]",
      "text/plain": [
       "<Figure size 1700x700 with 1 Axes>"
      ]
     },
     "metadata": {},
     "output_type": "display_data"
    }
   ],
   "source": [
    "plt.figure(figsize = (17,7))\n",
    "sns.barplot(y = df.accuracy, x = df.model)"
   ]
  },
  {
   "cell_type": "code",
   "execution_count": 38,
   "id": "ad1ebdf8",
   "metadata": {},
   "outputs": [
    {
     "name": "stdout",
     "output_type": "stream",
     "text": [
      "inp much write here, exactly supposed to. filter pop sounds. recording much crisp. one lowest price pop filter amazon might well buy it, honestly work despite pricing,good\n"
     ]
    }
   ],
   "source": [
    "inp = process_reviews.loc[0][0] #containing bad review data\n",
    "bow_x_test = cv.transform([inp]) # wrap inp in square brackets to create a list of strings\n",
    "# print('inp',bow_x_test)\n",
    "print('inp',inp)\n",
    "df_predit = nb.predict(bow_x_test)\n"
   ]
  },
  {
   "cell_type": "code",
   "execution_count": 39,
   "id": "6217f8ce",
   "metadata": {},
   "outputs": [
    {
     "name": "stdout",
     "output_type": "stream",
     "text": [
      "Product review: ['positive']\n"
     ]
    }
   ],
   "source": [
    "print('Product review:',df_predit)"
   ]
  },
  {
   "cell_type": "code",
   "execution_count": 40,
   "id": "438d4343",
   "metadata": {},
   "outputs": [
    {
     "name": "stdout",
     "output_type": "stream",
     "text": [
      "inp use cable run output pedal chain input fender amp. bought monster cable hook pedal board thought would try another one update guitar. using high end planet waves cable bought 1980's... found input jack new monster cable fit fender strat jack little disappointed... return stated use output pedal board. save money... went back planet waves cable...i payed $30.00 back eighty planet waves come around $50.00. i'm getting get pay for. thought waves lot money back day...but bought guitar cable since one...20 plus year still working...planet waves wins.didn't fit 1996 fender strat...\n"
     ]
    }
   ],
   "source": [
    "inp = process_reviews.loc[7][0]  # containing avg review data\n",
    "bow_x_test = cv.transform([inp]) # wrap inp in square brackets to create a list of strings\n",
    "# print('inp',bow_x_test)\n",
    "print('inp',inp)"
   ]
  },
  {
   "cell_type": "code",
   "execution_count": 41,
   "id": "3202d3c8",
   "metadata": {},
   "outputs": [
    {
     "name": "stdout",
     "output_type": "stream",
     "text": [
      "Product review: ['average']\n"
     ]
    }
   ],
   "source": [
    "df_predict = nb.predict(bow_x_test)\n",
    "print('Product review:',df_predict)"
   ]
  },
  {
   "cell_type": "code",
   "execution_count": 42,
   "id": "eb212259",
   "metadata": {},
   "outputs": [
    {
     "name": "stdout",
     "output_type": "stream",
     "text": [
      "inp i'm pro-cheapo hated thing. they're noisy, cable feel really cheap, gummy-like. drop buck get something else!crap\n"
     ]
    }
   ],
   "source": [
    "inp = process_reviews.loc[89][0] #containing bad review data\n",
    "bow_x_test = cv.transform([inp]) # wrap inp in square brackets to create a list of strings\n",
    "# print('inp',bow_x_test)\n",
    "print('inp',inp)\n",
    "df_predit = nb.predict(bow_x_test)\n"
   ]
  },
  {
   "cell_type": "code",
   "execution_count": 43,
   "id": "6b33a232",
   "metadata": {},
   "outputs": [
    {
     "name": "stdout",
     "output_type": "stream",
     "text": [
      "Product review: ['bad']\n"
     ]
    }
   ],
   "source": [
    "print('Product review:',df_predit)"
   ]
  },
  {
   "cell_type": "code",
   "execution_count": 44,
   "id": "45ac713c",
   "metadata": {},
   "outputs": [
    {
     "name": "stdout",
     "output_type": "stream",
     "text": [
      "Vectorized output: [[0 0 0 ... 0 0 0]]\n",
      "Product review: ['average']\n"
     ]
    }
   ],
   "source": [
    "inputs = ['use cable run output pedal chain input fender amp. bought monster cable hook pedal board thought would try another one update guitar. using high end planet waves cable bought 1980 found  jack new monster cable fit fender strat jack little disappointed stated use output pedal board. save money... went back planet waves cable...i payed $30.00 back eighty planet waves come around $50.00 im getting get pay for. thought waves lot money back day...but bought guitar cable since one...20 plus year still working...planet waves wins.didnt fit 1996 fender strat']\n",
    "bow_x_tes = cv.transform(inputs)\n",
    "print('Vectorized output:', bow_x_tes.toarray())\n",
    "df_predit = nb.predict(bow_x_tes)\n",
    "print('Product review:',df_predit)\n"
   ]
  },
  {
   "cell_type": "code",
   "execution_count": 45,
   "id": "ba5ba8f3",
   "metadata": {},
   "outputs": [
    {
     "name": "stdout",
     "output_type": "stream",
     "text": [
      "Vectorized output: [[0 0 0 ... 0 0 0]]\n",
      "Product review: ['bad']\n"
     ]
    }
   ],
   "source": [
    "inputs = ['im pro-cheapo hated thing. they re noisy, cable feel really cheap, gummy-like. drop buck get something else!crap']\n",
    "bow_x_tes = cv.transform(inputs)\n",
    "print('Vectorized output:', bow_x_tes.toarray())\n",
    "df_predit = nb.predict(bow_x_tes)\n",
    "print('Product review:',df_predit)"
   ]
  },
  {
   "cell_type": "code",
   "execution_count": null,
   "id": "dcd38f86",
   "metadata": {},
   "outputs": [],
   "source": []
  },
  {
   "cell_type": "code",
   "execution_count": null,
   "id": "9dd35f53",
   "metadata": {},
   "outputs": [],
   "source": []
  },
  {
   "cell_type": "code",
   "execution_count": null,
   "id": "fec39929",
   "metadata": {},
   "outputs": [],
   "source": []
  },
  {
   "cell_type": "code",
   "execution_count": null,
   "id": "c9f4ee7d",
   "metadata": {},
   "outputs": [],
   "source": []
  },
  {
   "cell_type": "code",
   "execution_count": null,
   "id": "4b3f1e5e",
   "metadata": {},
   "outputs": [],
   "source": []
  }
 ],
 "metadata": {
  "kernelspec": {
   "display_name": "Python 3 (ipykernel)",
   "language": "python",
   "name": "python3"
  },
  "language_info": {
   "codemirror_mode": {
    "name": "ipython",
    "version": 3
   },
   "file_extension": ".py",
   "mimetype": "text/x-python",
   "name": "python",
   "nbconvert_exporter": "python",
   "pygments_lexer": "ipython3",
   "version": "3.9.13"
  }
 },
 "nbformat": 4,
 "nbformat_minor": 5
}
